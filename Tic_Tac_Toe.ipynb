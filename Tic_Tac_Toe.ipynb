{
  "nbformat": 4,
  "nbformat_minor": 0,
  "metadata": {
    "colab": {
      "name": "Tic Tac Toe",
      "provenance": [],
      "collapsed_sections": [],
      "include_colab_link": true
    },
    "kernelspec": {
      "name": "python3",
      "display_name": "Python 3"
    }
  },
  "cells": [
    {
      "cell_type": "markdown",
      "metadata": {
        "id": "view-in-github",
        "colab_type": "text"
      },
      "source": [
        "<a href=\"https://colab.research.google.com/github/Rushiv25/TicTacToe/blob/master/Tic_Tac_Toe.ipynb\" target=\"_parent\"><img src=\"https://colab.research.google.com/assets/colab-badge.svg\" alt=\"Open In Colab\"/></a>"
      ]
    },
    {
      "cell_type": "code",
      "metadata": {
        "id": "AQdmUJraCvKq",
        "colab_type": "code",
        "colab": {
          "base_uri": "https://localhost:8080/",
          "height": 138
        },
        "outputId": "cab3fa97-7e1c-4942-a3ec-7dd375ff3e87"
      },
      "source": [
        "board = {'1': ' ' , '2': ' ' , '3': ' ',\n",
        "         '4': ' ' , '5': ' ' , '6': ' ',\n",
        "         '7': ' ' , '8': ' ' , '9': ' ' }\n",
        "def printBoard(board):\n",
        "  print(board['7'] + '| ' + board['8'] + '  | ' + board['9'])\n",
        "  print('-+----+-')\n",
        "  print(board['4'] + '| ' + board['5'] + '  | ' + board['6'])\n",
        "  print('-+----+-')\n",
        "  print(board['1'] + '| ' + board['2'] + '  | ' + board['3'])\n",
        "\n",
        "def game():\n",
        "\n",
        "    turn = 'x'\n",
        "    count = 0\n",
        "\n",
        "    for i in range(10):\n",
        "        printBoard(board)\n",
        "        print(\"It's your turn,\" + turn + \".Move to which place?'\")\n",
        "\n",
        "        move = input()\n",
        "\n",
        "        if board[move] == ' ':\n",
        "            board[move] = turn\n",
        "            count+=1\n",
        "        else:\n",
        "            print(\"That place is filled.\\nMove to which place?\")\n",
        "            continue\n",
        "        if turn =='x':\n",
        "          turn = 'o'\n",
        "        else:\n",
        "          turn = 'x'\n",
        "\n",
        "\n",
        "        if count >= 5:\n",
        "            if board['7'] == board['8'] == board['9'] != ' ': \n",
        "                printBoard(board)\n",
        "                print(\"\\nGame Over.\\n\")                \n",
        "                print(\" you won \")                \n",
        "                break\n",
        "            elif board['4'] == board['5'] == board['6'] != ' ': \n",
        "                printBoard(board)\n",
        "                print(\"\\nGame Over.\\n\")                \n",
        "                print(\" you won \")\n",
        "                break\n",
        "            elif board['1'] == board['2'] == board['3'] != ' ': \n",
        "                printBoard(board)\n",
        "                print(\"\\nGame Over.\\n\")                \n",
        "                print(\" you won \")\n",
        "                break\n",
        "            elif board['1'] == board['4'] == board['7'] != ' ': \n",
        "                printBoard(board)\n",
        "                print(\"\\nGame Over.\\n\")                \n",
        "                print(\" you won \")\n",
        "                break\n",
        "            elif board['2'] == board['5'] == board['8'] != ' ': \n",
        "                printBoard(board)\n",
        "                print(\"\\nGame Over.\\n\")                \n",
        "                print(\" you won \")\n",
        "                break\n",
        "            elif board['3'] == board['6'] == board['9'] != ' ': \n",
        "                printBoard(board)\n",
        "                print(\"\\nGame Over.\\n\")                \n",
        "                print(\" you won \")\n",
        "                break \n",
        "            elif board['7'] == board['5'] == board['3'] != ' ': \n",
        "                printBoard(board)\n",
        "                print(\"\\nGame Over.\\n\")                \n",
        "                print(\" you won \")\n",
        "                break\n",
        "            elif board['1'] == board['5'] == board['9'] != ' ': \n",
        "                printBoard(board)\n",
        "                print(\"\\nGame Over.\\n\")                \n",
        "                print(\" you won \")\n",
        "                break \n",
        "            elif count == 9:\n",
        "              print(\"It's a Tie!!!\")\n",
        "              break\n",
        "            else:\n",
        "              continue\n",
        "            \n",
        "game()"
      ],
      "execution_count": null,
      "outputs": [
        {
          "output_type": "stream",
          "text": [
            " |    |  \n",
            "-+----+-\n",
            " |    |  \n",
            "-+----+-\n",
            " |    |  \n",
            "It's your turn,x.Move to which place?'\n"
          ],
          "name": "stdout"
        }
      ]
    },
    {
      "cell_type": "code",
      "metadata": {
        "id": "dNb0zDNOpXCh",
        "colab_type": "code",
        "colab": {}
      },
      "source": [
        ""
      ],
      "execution_count": null,
      "outputs": []
    }
  ]
}